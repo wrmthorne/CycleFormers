{
 "cells": [
  {
   "cell_type": "code",
   "execution_count": 1,
   "metadata": {},
   "outputs": [
    {
     "name": "stderr",
     "output_type": "stream",
     "text": [
      "/home/william/Documents/university/CycleLightning/.conda/lib/python3.10/site-packages/tqdm/auto.py:21: TqdmWarning: IProgress not found. Please update jupyter and ipywidgets. See https://ipywidgets.readthedocs.io/en/stable/user_install.html\n",
      "  from .autonotebook import tqdm as notebook_tqdm\n"
     ]
    }
   ],
   "source": [
    "import datasets"
   ]
  },
  {
   "cell_type": "code",
   "execution_count": 14,
   "metadata": {},
   "outputs": [],
   "source": [
    "data_train_A = [\n",
    "                {'text': 'This is from dataset A'},\n",
    "                {'text': 'This is from dataset A'},\n",
    "                {'text': 'This is from dataset A'},\n",
    "                {'text': 'This is from dataset A'},\n",
    "                {'text': 'This is from dataset A'},\n",
    "                {'text': 'This is from dataset A'},\n",
    "                {'text': 'This is from dataset A'},\n",
    "                {'text': 'This is from dataset A'},\n",
    "                {'text': 'This is from dataset A'},\n",
    "            ]\n",
    "\n",
    "data_val_A =  [\n",
    "                {'text': 'This is from dataset A', 'label': 'This is from dataset B'},\n",
    "                {'text': 'This is from dataset A', 'label': 'This is from dataset B'},\n",
    "                {'text': 'This is from dataset A', 'label': 'This is from dataset B'},\n",
    "            ]\n",
    "\n",
    "dataset_train_A = datasets.Dataset.from_list(data_train_A)\n",
    "dataset_val_A = datasets.Dataset.from_list(data_val_A)"
   ]
  },
  {
   "cell_type": "code",
   "execution_count": 15,
   "metadata": {},
   "outputs": [
    {
     "data": {
      "text/plain": [
       "DatasetDict({\n",
       "    train: Dataset({\n",
       "        features: ['text'],\n",
       "        num_rows: 9\n",
       "    })\n",
       "    validation: Dataset({\n",
       "        features: ['text', 'label'],\n",
       "        num_rows: 3\n",
       "    })\n",
       "})"
      ]
     },
     "execution_count": 15,
     "metadata": {},
     "output_type": "execute_result"
    }
   ],
   "source": [
    "dataset_dict_A = datasets.DatasetDict({'train': dataset_train_A, 'validation': dataset_val_A})\n",
    "dataset_dict_A"
   ]
  },
  {
   "cell_type": "code",
   "execution_count": null,
   "metadata": {},
   "outputs": [],
   "source": [
    "data_train_B = [\n",
    "                {'text': 'This is from dataset B'},\n",
    "                {'text': 'This is from dataset B'},\n",
    "                {'text': 'This is from dataset B'},\n",
    "                {'text': 'This is from dataset B'},\n",
    "                {'text': 'This is from dataset B'},\n",
    "                {'text': 'This is from dataset B'},\n",
    "                {'text': 'This is from dataset B'},\n",
    "                {'text': 'This is from dataset B'},\n",
    "                {'text': 'This is from dataset B'},\n",
    "                {'text': 'This is from dataset B'},\n",
    "                {'text': 'This is from dataset B'},\n",
    "                {'text': 'This is from dataset B'},\n",
    "                {'text': 'This is from dataset B'},\n",
    "                {'text': 'This is from dataset B'},\n",
    "                {'text': 'This is from dataset B'},\n",
    "                {'text': 'This is from dataset B'},\n",
    "                {'text': 'This is from dataset B'},\n",
    "                {'text': 'This is from dataset B'},\n",
    "            ]\n",
    "\n",
    "data_val_B =  [\n",
    "                {'text': 'This is from dataset B', 'label': 'This is from dataset A'},\n",
    "                {'text': 'This is from dataset B', 'label': 'This is from dataset A'},\n",
    "                {'text': 'This is from dataset B', 'label': 'This is from dataset A'},\n",
    "                {'text': 'This is from dataset B', 'label': 'This is from dataset A'},\n",
    "                {'text': 'This is from dataset B', 'label': 'This is from dataset A'},\n",
    "                {'text': 'This is from dataset B', 'label': 'This is from dataset A'},\n",
    "            ]\n",
    "\n",
    "dataset_train_B = datasets.Dataset.from_list(data_train_B)\n",
    "dataset_val_B = datasets.Dataset.from_list(data_val_B)\n",
    "\n",
    "dataset_dict_B = datasets.DatasetDict({'train': dataset_train_B, 'validation': dataset_val_B})\n",
    "dataset_dict_B"
   ]
  }
 ],
 "metadata": {
  "kernelspec": {
   "display_name": "Python 3",
   "language": "python",
   "name": "python3"
  },
  "language_info": {
   "codemirror_mode": {
    "name": "ipython",
    "version": 3
   },
   "file_extension": ".py",
   "mimetype": "text/x-python",
   "name": "python",
   "nbconvert_exporter": "python",
   "pygments_lexer": "ipython3",
   "version": "3.10.11"
  },
  "orig_nbformat": 4
 },
 "nbformat": 4,
 "nbformat_minor": 2
}
